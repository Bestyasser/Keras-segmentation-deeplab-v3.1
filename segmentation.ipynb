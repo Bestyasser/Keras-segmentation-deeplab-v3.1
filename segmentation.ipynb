{
 "cells": [
  {
   "cell_type": "code",
   "execution_count": null,
   "metadata": {},
   "outputs": [],
   "source": [
    "%matplotlib inline\n",
    "from utils import *\n",
    "from sklearn.model_selection import train_test_split\n",
    "from deeplabv3p import preprocess_input\n",
    "PATH = '/workspace/datasets/OpenSourceDatasets/VOCdevkit/VOC2012/'\n",
    "image_size = (512, 512)"
   ]
  },
  {
   "cell_type": "code",
   "execution_count": null,
   "metadata": {},
   "outputs": [],
   "source": [
    "# build model\n",
    "deeplab_seg = SegModel(PATH, image_size, use_coords = True)\n",
    "deeplab_seg.set_batch_size(4)\n",
    "deeplab_seg.set_num_epochs(10)\n",
    "\n",
    "opt = SGD(lr=0.01, momentum = 0.8) # Adam()\n",
    "deeplab_model = deeplab_seg.create_seg_model(opt, net='deeplabv3', load_weights = False, w=30, multi_gpu = False)\n",
    "\n",
    "#deeplab_model.summary()"
   ]
  },
  {
   "cell_type": "markdown",
   "metadata": {},
   "source": [
    "#### Create Generators"
   ]
  },
  {
   "cell_type": "code",
   "execution_count": null,
   "metadata": {},
   "outputs": [],
   "source": [
    "data_trn_gen_args_mask = dict(preprocessing_function = preprocess_mask,\n",
    "                              horizontal_flip=True, rotation_range=45,\n",
    "                              width_shift_range=0.01, \n",
    "                              height_shift_range=0.01,\n",
    "                              zoom_range=0.2, \n",
    "                              validation_split = .2,\n",
    "                              )\n",
    "\n",
    "data_trn_gen_args_image = dict(preprocessing_function = preprocess_input,\n",
    "                               horizontal_flip=True, rotation_range=45,\n",
    "                               width_shift_range=0.01, \n",
    "                               height_shift_range=0.01,\n",
    "                               zoom_range=0.2, \n",
    "                               validation_split = .2,\n",
    "                               channel_shift_range = .2\n",
    "                               )\n",
    "\n",
    "data_val_gen_args_image = dict(preprocessing_function = preprocess_input, validation_split = .2)\n",
    "data_val_gen_args_mask = dict(validation_split = .2)\n",
    "\n",
    "train_generator = deeplab_seg.create_generators(data_trn_gen_args_image, data_trn_gen_args_mask, subset = 'training')\n",
    "valid_generator = deeplab_seg.create_generators(data_val_gen_args_image, data_val_gen_args_mask, subset = 'validation')"
   ]
  },
  {
   "cell_type": "code",
   "execution_count": null,
   "metadata": {},
   "outputs": [],
   "source": [
    "data_trn_gen_args_image['preprocessing_function'] = None\n",
    "\n",
    "show_aug_data(train_generator, data_trn_gen_args_image, data_trn_gen_args_mask)"
   ]
  },
  {
   "cell_type": "markdown",
   "metadata": {},
   "source": [
    "## Train Model"
   ]
  },
  {
   "cell_type": "code",
   "execution_count": null,
   "metadata": {},
   "outputs": [],
   "source": [
    "h = deeplab_seg.train_generator(deeplab_model, train_generator=train_generator, \n",
    "                                valid_generator = valid_generator, \n",
    "                                tf_board = True, mp = True)"
   ]
  },
  {
   "cell_type": "markdown",
   "metadata": {},
   "source": [
    "### EVALUATION"
   ]
  },
  {
   "cell_type": "code",
   "execution_count": null,
   "metadata": {},
   "outputs": [],
   "source": [
    "classes = [c for c in get_VOC2012_classes().values()]\n",
    "y_preds = deeplab_model.predict(X_test, batch_size = deeplab_seg.batch_size, verbose=1)\n",
    "df_test, conf_test, mean_acc_test = evaluate_model(y_preds, y_test, data_from = 'test')\n",
    "\n",
    "y_preds = deeplab_model.predict(X_valid, batch_size = deeplab_seg.batch_size, verbose=1)\n",
    "df_valid, conf_valid, mean_acc_valid = evaluate_model(y_preds, y_valid, data_from = 'valid')\n",
    "df_test['IoU valid'] = df_valid['IoU valid']\n",
    "\n",
    "if deeplab_seg.coords:\n",
    "    model_name = 'deeplabv3+ with added coordconv channels'\n",
    "else:\n",
    "    model_name = 'deeplabv3+'\n",
    "\n",
    "plt.figure(figsize=(17,7))\n",
    "plt.subplot(121)\n",
    "plot_confusion_matrix(conf_test, classes, normalize=True, \n",
    "                      title='Pixel-wise confusion matrix of Test set. Model: '+model_name)\n",
    "plt.subplot(122)\n",
    "plot_confusion_matrix(conf_valid, classes, normalize=True, \n",
    "                      title='Pixel-wise confusion matrix of Validation set. Model: '+model_name)\n",
    "\n",
    "print('test mean acc: ', mean_acc_test)\n",
    "print('validation mean acc: ', mean_acc_valid)\n",
    "df_test"
   ]
  }
 ],
 "metadata": {
  "kernelspec": {
   "display_name": "Python 3",
   "language": "python",
   "name": "python3"
  },
  "language_info": {
   "codemirror_mode": {
    "name": "ipython",
    "version": 3
   },
   "file_extension": ".py",
   "mimetype": "text/x-python",
   "name": "python",
   "nbconvert_exporter": "python",
   "pygments_lexer": "ipython3",
   "version": "3.5.2"
  }
 },
 "nbformat": 4,
 "nbformat_minor": 2
}
