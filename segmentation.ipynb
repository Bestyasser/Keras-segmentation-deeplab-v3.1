{
 "cells": [
  {
   "cell_type": "code",
   "execution_count": 1,
   "metadata": {
    "scrolled": true
   },
   "outputs": [
    {
     "name": "stderr",
     "output_type": "stream",
     "text": [
      "Using TensorFlow backend.\n"
     ]
    }
   ],
   "source": [
    "%matplotlib inline\n",
    "from utils import *\n",
    "from sklearn.model_selection import train_test_split\n",
    "import pickle\n",
    "from icnet import build_bn\n",
    "import matplotlib.pyplot as plt\n",
    "\n",
    "PATH = \"C:\\\\Users\\jgolb\\Desktop\\datasets\\\\\"\n",
    "image_size = (128, 128)\n",
    "\n",
    "NET = 'unet'\n"
   ]
  },
  {
   "cell_type": "code",
   "execution_count": 2,
   "metadata": {
    "scrolled": true
   },
   "outputs": [],
   "source": [
    "SegClass = SegModel(PATH, image_size, use_coords = False)\n",
    "SegClass.set_batch_size(8)\n",
    "SegClass.set_num_epochs(2)\n",
    "opt = RMSprop()\n",
    "\n",
    "model = SegClass.create_seg_model(opt, net=NET, load_weights = False, \n",
    "                                  multi_gpu = False, to_compile = True, alpha = 1)\n",
    "#model.summary()"
   ]
  },
  {
   "cell_type": "code",
   "execution_count": 3,
   "metadata": {},
   "outputs": [],
   "source": [
    "model.load_weights('deeplabv3_mobilenetv2_tf_dim_ordering_tf_kernels.h5')"
   ]
  },
  {
   "cell_type": "code",
   "execution_count": 3,
   "metadata": {},
   "outputs": [],
   "source": [
    "train_generator = SegClass.create_generators(resize_shape = image_size,\n",
    "                                             crop_shape = False, mode = 'train',n_classes = 21, \n",
    "                                             horizontal_flip = True, vertical_flip = False, \n",
    "                                             icnet = NET == 'icnet',brightness=0.1, rotation=2.0, \n",
    "                                             zoom=0.1, validation_split = .2, seed = 7)\n",
    "\n",
    "valid_generator = SegClass.create_generators(resize_shape = image_size,\n",
    "                                             crop_shape = False, mode = 'validation', n_classes = 21, \n",
    "                                             horizontal_flip = True, vertical_flip = False, \n",
    "                                             icnet = NET == 'icnet',brightness=False, rotation=False, \n",
    "                                             zoom=0, validation_split = .01, seed = 7)"
   ]
  },
  {
   "cell_type": "code",
   "execution_count": 4,
   "metadata": {
    "scrolled": true
   },
   "outputs": [
    {
     "name": "stdout",
     "output_type": "stream",
     "text": [
      "Epoch 1/2\n",
      "15/15 [==============================] - 55s 4s/step - loss: 2.9056 - Mean_IOU: 0.1248 - background_accuracy: 0.0327 - accuracy_ignoring_last_label: 0.1213 - foreground_accuracy: 0.2989 - val_loss: 11.5219 - val_Mean_IOU: 0.0142 - val_background_accuracy: 0.0127 - val_accuracy_ignoring_last_label: 0.0195 - val_foreground_accuracy: 0.0327\n",
      "\n",
      "Epoch 00001: val_Mean_IOU improved from -inf to 0.01425, saving model to weights/001_unet_128.h5\n",
      "Epoch 2/2\n",
      "15/15 [==============================] - 55s 4s/step - loss: 2.4071 - Mean_IOU: 0.1728 - background_accuracy: 0.0625 - accuracy_ignoring_last_label: 0.1543 - foreground_accuracy: 0.2928 - val_loss: 6.4989 - val_Mean_IOU: 0.0584 - val_background_accuracy: 0.0066 - val_accuracy_ignoring_last_label: 0.0403 - val_foreground_accuracy: 0.1203\n",
      "\n",
      "Epoch 00002: val_Mean_IOU improved from 0.01425 to 0.05843, saving model to weights/002_unet_128.h5\n"
     ]
    },
    {
     "ename": "FileExistsError",
     "evalue": "[WinError 183] Cannot create a file when that file already exists: 'C:\\\\Users\\\\jgolb\\\\Desktop\\\\datasets\\\\pred_masks/image_0'",
     "output_type": "error",
     "traceback": [
      "\u001b[1;31m---------------------------------------------------------------------------\u001b[0m",
      "\u001b[1;31mFileExistsError\u001b[0m                           Traceback (most recent call last)",
      "\u001b[1;32m<ipython-input-4-1287a21626ca>\u001b[0m in \u001b[0;36m<module>\u001b[1;34m()\u001b[0m\n\u001b[0;32m      1\u001b[0m h, cyclr = SegClass.train_generator(model, train_generator=valid_generator,\n\u001b[0;32m      2\u001b[0m                                     \u001b[0mvalid_generator\u001b[0m \u001b[1;33m=\u001b[0m \u001b[0mvalid_generator\u001b[0m\u001b[1;33m,\u001b[0m \u001b[0mplot_test_images\u001b[0m \u001b[1;33m=\u001b[0m \u001b[1;32mTrue\u001b[0m\u001b[1;33m,\u001b[0m\u001b[1;33m\u001b[0m\u001b[0m\n\u001b[1;32m----> 3\u001b[1;33m                                     tf_board = True, mp = False)\n\u001b[0m",
      "\u001b[1;32m~\\Desktop\\AI\\deeplabv3_keras\\utils.py\u001b[0m in \u001b[0;36mtrain_generator\u001b[1;34m(self, model, train_generator, valid_generator, tf_board, mp, plot_test_images)\u001b[0m\n\u001b[0;32m    845\u001b[0m                                 \u001b[0mvalidation_steps\u001b[0m\u001b[1;33m=\u001b[0m\u001b[0mlen\u001b[0m\u001b[1;33m(\u001b[0m\u001b[0mvalid_generator\u001b[0m\u001b[1;33m)\u001b[0m\u001b[1;33m,\u001b[0m\u001b[1;33m\u001b[0m\u001b[0m\n\u001b[0;32m    846\u001b[0m                                 \u001b[0mmax_queue_size\u001b[0m\u001b[1;33m=\u001b[0m\u001b[1;36m10\u001b[0m\u001b[1;33m,\u001b[0m\u001b[1;33m\u001b[0m\u001b[0m\n\u001b[1;32m--> 847\u001b[1;33m                                 workers=workers, use_multiprocessing=mp)\n\u001b[0m\u001b[0;32m    848\u001b[0m         \u001b[1;32mreturn\u001b[0m \u001b[0mh\u001b[0m\u001b[1;33m,\u001b[0m \u001b[0mcl\u001b[0m\u001b[1;33m\u001b[0m\u001b[0m\n\u001b[0;32m    849\u001b[0m \u001b[1;33m\u001b[0m\u001b[0m\n",
      "\u001b[1;32m~\\Anaconda3\\lib\\site-packages\\keras\\legacy\\interfaces.py\u001b[0m in \u001b[0;36mwrapper\u001b[1;34m(*args, **kwargs)\u001b[0m\n\u001b[0;32m     89\u001b[0m                 warnings.warn('Update your `' + object_name + '` call to the ' +\n\u001b[0;32m     90\u001b[0m                               'Keras 2 API: ' + signature, stacklevel=2)\n\u001b[1;32m---> 91\u001b[1;33m             \u001b[1;32mreturn\u001b[0m \u001b[0mfunc\u001b[0m\u001b[1;33m(\u001b[0m\u001b[1;33m*\u001b[0m\u001b[0margs\u001b[0m\u001b[1;33m,\u001b[0m \u001b[1;33m**\u001b[0m\u001b[0mkwargs\u001b[0m\u001b[1;33m)\u001b[0m\u001b[1;33m\u001b[0m\u001b[0m\n\u001b[0m\u001b[0;32m     92\u001b[0m         \u001b[0mwrapper\u001b[0m\u001b[1;33m.\u001b[0m\u001b[0m_original_function\u001b[0m \u001b[1;33m=\u001b[0m \u001b[0mfunc\u001b[0m\u001b[1;33m\u001b[0m\u001b[0m\n\u001b[0;32m     93\u001b[0m         \u001b[1;32mreturn\u001b[0m \u001b[0mwrapper\u001b[0m\u001b[1;33m\u001b[0m\u001b[0m\n",
      "\u001b[1;32m~\\Anaconda3\\lib\\site-packages\\keras\\engine\\training.py\u001b[0m in \u001b[0;36mfit_generator\u001b[1;34m(self, generator, steps_per_epoch, epochs, verbose, callbacks, validation_data, validation_steps, class_weight, max_queue_size, workers, use_multiprocessing, shuffle, initial_epoch)\u001b[0m\n\u001b[0;32m   1416\u001b[0m             \u001b[0muse_multiprocessing\u001b[0m\u001b[1;33m=\u001b[0m\u001b[0muse_multiprocessing\u001b[0m\u001b[1;33m,\u001b[0m\u001b[1;33m\u001b[0m\u001b[0m\n\u001b[0;32m   1417\u001b[0m             \u001b[0mshuffle\u001b[0m\u001b[1;33m=\u001b[0m\u001b[0mshuffle\u001b[0m\u001b[1;33m,\u001b[0m\u001b[1;33m\u001b[0m\u001b[0m\n\u001b[1;32m-> 1418\u001b[1;33m             initial_epoch=initial_epoch)\n\u001b[0m\u001b[0;32m   1419\u001b[0m \u001b[1;33m\u001b[0m\u001b[0m\n\u001b[0;32m   1420\u001b[0m     \u001b[1;33m@\u001b[0m\u001b[0minterfaces\u001b[0m\u001b[1;33m.\u001b[0m\u001b[0mlegacy_generator_methods_support\u001b[0m\u001b[1;33m\u001b[0m\u001b[0m\n",
      "\u001b[1;32m~\\Anaconda3\\lib\\site-packages\\keras\\engine\\training_generator.py\u001b[0m in \u001b[0;36mfit_generator\u001b[1;34m(model, generator, steps_per_epoch, epochs, verbose, callbacks, validation_data, validation_steps, class_weight, max_queue_size, workers, use_multiprocessing, shuffle, initial_epoch)\u001b[0m\n\u001b[0;32m    249\u001b[0m                     \u001b[1;32mbreak\u001b[0m\u001b[1;33m\u001b[0m\u001b[0m\n\u001b[0;32m    250\u001b[0m \u001b[1;33m\u001b[0m\u001b[0m\n\u001b[1;32m--> 251\u001b[1;33m             \u001b[0mcallbacks\u001b[0m\u001b[1;33m.\u001b[0m\u001b[0mon_epoch_end\u001b[0m\u001b[1;33m(\u001b[0m\u001b[0mepoch\u001b[0m\u001b[1;33m,\u001b[0m \u001b[0mepoch_logs\u001b[0m\u001b[1;33m)\u001b[0m\u001b[1;33m\u001b[0m\u001b[0m\n\u001b[0m\u001b[0;32m    252\u001b[0m             \u001b[0mepoch\u001b[0m \u001b[1;33m+=\u001b[0m \u001b[1;36m1\u001b[0m\u001b[1;33m\u001b[0m\u001b[0m\n\u001b[0;32m    253\u001b[0m             \u001b[1;32mif\u001b[0m \u001b[0mcallback_model\u001b[0m\u001b[1;33m.\u001b[0m\u001b[0mstop_training\u001b[0m\u001b[1;33m:\u001b[0m\u001b[1;33m\u001b[0m\u001b[0m\n",
      "\u001b[1;32m~\\Anaconda3\\lib\\site-packages\\keras\\callbacks.py\u001b[0m in \u001b[0;36mon_epoch_end\u001b[1;34m(self, epoch, logs)\u001b[0m\n\u001b[0;32m     77\u001b[0m         \u001b[0mlogs\u001b[0m \u001b[1;33m=\u001b[0m \u001b[0mlogs\u001b[0m \u001b[1;32mor\u001b[0m \u001b[1;33m{\u001b[0m\u001b[1;33m}\u001b[0m\u001b[1;33m\u001b[0m\u001b[0m\n\u001b[0;32m     78\u001b[0m         \u001b[1;32mfor\u001b[0m \u001b[0mcallback\u001b[0m \u001b[1;32min\u001b[0m \u001b[0mself\u001b[0m\u001b[1;33m.\u001b[0m\u001b[0mcallbacks\u001b[0m\u001b[1;33m:\u001b[0m\u001b[1;33m\u001b[0m\u001b[0m\n\u001b[1;32m---> 79\u001b[1;33m             \u001b[0mcallback\u001b[0m\u001b[1;33m.\u001b[0m\u001b[0mon_epoch_end\u001b[0m\u001b[1;33m(\u001b[0m\u001b[0mepoch\u001b[0m\u001b[1;33m,\u001b[0m \u001b[0mlogs\u001b[0m\u001b[1;33m)\u001b[0m\u001b[1;33m\u001b[0m\u001b[0m\n\u001b[0m\u001b[0;32m     80\u001b[0m \u001b[1;33m\u001b[0m\u001b[0m\n\u001b[0;32m     81\u001b[0m     \u001b[1;32mdef\u001b[0m \u001b[0mon_batch_begin\u001b[0m\u001b[1;33m(\u001b[0m\u001b[0mself\u001b[0m\u001b[1;33m,\u001b[0m \u001b[0mbatch\u001b[0m\u001b[1;33m,\u001b[0m \u001b[0mlogs\u001b[0m\u001b[1;33m=\u001b[0m\u001b[1;32mNone\u001b[0m\u001b[1;33m)\u001b[0m\u001b[1;33m:\u001b[0m\u001b[1;33m\u001b[0m\u001b[0m\n",
      "\u001b[1;32m~\\Desktop\\AI\\deeplabv3_keras\\utils.py\u001b[0m in \u001b[0;36msave_model_prediction_images\u001b[1;34m(epoch, logs)\u001b[0m\n\u001b[0;32m    743\u001b[0m                     \u001b[0mplt\u001b[0m\u001b[1;33m.\u001b[0m\u001b[0mimshow\u001b[0m\u001b[1;33m(\u001b[0m\u001b[0mimage\u001b[0m\u001b[1;33m)\u001b[0m\u001b[1;33m\u001b[0m\u001b[0m\n\u001b[0;32m    744\u001b[0m                     \u001b[0mplt\u001b[0m\u001b[1;33m.\u001b[0m\u001b[0mimshow\u001b[0m\u001b[1;33m(\u001b[0m\u001b[0mmask\u001b[0m\u001b[1;33m,\u001b[0m \u001b[0malpha\u001b[0m\u001b[1;33m=\u001b[0m\u001b[1;36m.5\u001b[0m\u001b[1;33m)\u001b[0m\u001b[1;33m\u001b[0m\u001b[0m\n\u001b[1;32m--> 745\u001b[1;33m                     \u001b[0mos\u001b[0m\u001b[1;33m.\u001b[0m\u001b[0mmakedirs\u001b[0m\u001b[1;33m(\u001b[0m\u001b[0mself\u001b[0m\u001b[1;33m.\u001b[0m\u001b[0mmainpath\u001b[0m\u001b[1;33m+\u001b[0m\u001b[0mOUTPUT_DIR\u001b[0m\u001b[1;33m+\u001b[0m\u001b[1;34m'/image_'\u001b[0m\u001b[1;33m+\u001b[0m\u001b[0mstr\u001b[0m\u001b[1;33m(\u001b[0m\u001b[0mk\u001b[0m\u001b[1;33m)\u001b[0m\u001b[1;33m)\u001b[0m\u001b[1;33m\u001b[0m\u001b[0m\n\u001b[0m\u001b[0;32m    746\u001b[0m                     \u001b[0mplt\u001b[0m\u001b[1;33m.\u001b[0m\u001b[0msavefig\u001b[0m\u001b[1;33m(\u001b[0m\u001b[0mself\u001b[0m\u001b[1;33m.\u001b[0m\u001b[0mmainpath\u001b[0m \u001b[1;33m+\u001b[0m \u001b[0mOUTPUT_DIR\u001b[0m \u001b[1;33m+\u001b[0m \u001b[1;34m\"/image_{}/epoch_{}.png\"\u001b[0m\u001b[1;33m.\u001b[0m\u001b[0mformat\u001b[0m\u001b[1;33m(\u001b[0m\u001b[0mstr\u001b[0m\u001b[1;33m(\u001b[0m\u001b[0mk\u001b[0m\u001b[1;33m)\u001b[0m\u001b[1;33m,\u001b[0m \u001b[0mstr\u001b[0m\u001b[1;33m(\u001b[0m\u001b[0mepoch\u001b[0m\u001b[1;33m)\u001b[0m\u001b[1;33m)\u001b[0m\u001b[1;33m)\u001b[0m\u001b[1;33m\u001b[0m\u001b[0m\n\u001b[0;32m    747\u001b[0m                     \u001b[0mplt\u001b[0m\u001b[1;33m.\u001b[0m\u001b[0mclose\u001b[0m\u001b[1;33m(\u001b[0m\u001b[1;33m)\u001b[0m\u001b[1;33m\u001b[0m\u001b[0m\n",
      "\u001b[1;32m~\\Anaconda3\\lib\\os.py\u001b[0m in \u001b[0;36mmakedirs\u001b[1;34m(name, mode, exist_ok)\u001b[0m\n\u001b[0;32m    218\u001b[0m             \u001b[1;32mreturn\u001b[0m\u001b[1;33m\u001b[0m\u001b[0m\n\u001b[0;32m    219\u001b[0m     \u001b[1;32mtry\u001b[0m\u001b[1;33m:\u001b[0m\u001b[1;33m\u001b[0m\u001b[0m\n\u001b[1;32m--> 220\u001b[1;33m         \u001b[0mmkdir\u001b[0m\u001b[1;33m(\u001b[0m\u001b[0mname\u001b[0m\u001b[1;33m,\u001b[0m \u001b[0mmode\u001b[0m\u001b[1;33m)\u001b[0m\u001b[1;33m\u001b[0m\u001b[0m\n\u001b[0m\u001b[0;32m    221\u001b[0m     \u001b[1;32mexcept\u001b[0m \u001b[0mOSError\u001b[0m\u001b[1;33m:\u001b[0m\u001b[1;33m\u001b[0m\u001b[0m\n\u001b[0;32m    222\u001b[0m         \u001b[1;31m# Cannot rely on checking for EEXIST, since the operating system\u001b[0m\u001b[1;33m\u001b[0m\u001b[1;33m\u001b[0m\u001b[0m\n",
      "\u001b[1;31mFileExistsError\u001b[0m: [WinError 183] Cannot create a file when that file already exists: 'C:\\\\Users\\\\jgolb\\\\Desktop\\\\datasets\\\\pred_masks/image_0'"
     ]
    },
    {
     "data": {
      "image/png": "[encoded data removed]",
      "text/plain": [
       "<Figure size 432x288 with 1 Axes>"
      ]
     },
     "metadata": {},
     "output_type": "display_data"
    }
   ],
   "source": [
    "h, cyclr = SegClass.train_generator(model, train_generator=valid_generator,\n",
    "                                    valid_generator = valid_generator, plot_test_images = True,\n",
    "                                    tf_board = True, mp = False)"
   ]
  },
  {
   "cell_type": "code",
   "execution_count": 4,
   "metadata": {},
   "outputs": [],
   "source": [
    "x,y,s = next(train_generator)"
   ]
  },
  {
   "cell_type": "code",
   "execution_count": 5,
   "metadata": {},
   "outputs": [],
   "source": [
    "pred = model.predict(x)"
   ]
  },
  {
   "cell_type": "code",
   "execution_count": 46,
   "metadata": {},
   "outputs": [],
   "source": [
    "y_pred = tf.convert_to_tensor(pred)\n",
    "y_true = tf.convert_to_tensor(y)"
   ]
  },
  {
   "cell_type": "code",
   "execution_count": 2,
   "metadata": {
    "scrolled": true
   },
   "outputs": [
    {
     "name": "stdout",
     "output_type": "stream",
     "text": [
      "__________________________________________________________________________________________________\n",
      "Layer (type)                    Output Shape         Param #     Connected to                     \n",
      "==================================================================================================\n",
      "input_1 (InputLayer)            (None, 224, 224, 3)  0                                            \n",
      "__________________________________________________________________________________________________\n",
      "conv_0 (Conv2D)                 (None, 112, 112, 32) 864         input_1[0][0]                    \n",
      "__________________________________________________________________________________________________\n",
      "conv_0_bn (BatchNormalization)  (None, 112, 112, 32) 128         conv_0[0][0]                     \n",
      "__________________________________________________________________________________________________\n",
      "conv_0_relu (Activation)        (None, 112, 112, 32) 0           conv_0_bn[0][0]                  \n",
      "__________________________________________________________________________________________________\n",
      "conv_dw_1 (DepthwiseConv2D)     (None, 112, 112, 32) 288         conv_0_relu[0][0]                \n",
      "__________________________________________________________________________________________________\n",
      "conv_dw_1_bn (BatchNormalizatio (None, 112, 112, 32) 128         conv_dw_1[0][0]                  \n",
      "__________________________________________________________________________________________________\n",
      "conv_dw_1_relu (Activation)     (None, 112, 112, 32) 0           conv_dw_1_bn[0][0]               \n",
      "__________________________________________________________________________________________________\n",
      "conv_pw_1 (Conv2D)              (None, 112, 112, 64) 2048        conv_dw_1_relu[0][0]             \n",
      "__________________________________________________________________________________________________\n",
      "conv_pw_1_bn (BatchNormalizatio (None, 112, 112, 64) 256         conv_pw_1[0][0]                  \n",
      "__________________________________________________________________________________________________\n",
      "conv_pw_1_relu (Activation)     (None, 112, 112, 64) 0           conv_pw_1_bn[0][0]               \n",
      "__________________________________________________________________________________________________\n",
      "conv_dw_2 (DepthwiseConv2D)     (None, 56, 56, 64)   576         conv_pw_1_relu[0][0]             \n",
      "__________________________________________________________________________________________________\n",
      "conv_dw_2_bn (BatchNormalizatio (None, 56, 56, 64)   256         conv_dw_2[0][0]                  \n",
      "__________________________________________________________________________________________________\n",
      "conv_dw_2_relu (Activation)     (None, 56, 56, 64)   0           conv_dw_2_bn[0][0]               \n",
      "__________________________________________________________________________________________________\n",
      "conv_pw_2 (Conv2D)              (None, 56, 56, 128)  8192        conv_dw_2_relu[0][0]             \n",
      "__________________________________________________________________________________________________\n",
      "conv_pw_2_bn (BatchNormalizatio (None, 56, 56, 128)  512         conv_pw_2[0][0]                  \n",
      "__________________________________________________________________________________________________\n",
      "conv_pw_2_relu (Activation)     (None, 56, 56, 128)  0           conv_pw_2_bn[0][0]               \n",
      "__________________________________________________________________________________________________\n",
      "conv_dw_3 (DepthwiseConv2D)     (None, 56, 56, 128)  1152        conv_pw_2_relu[0][0]             \n",
      "__________________________________________________________________________________________________\n",
      "conv_dw_3_bn (BatchNormalizatio (None, 56, 56, 128)  512         conv_dw_3[0][0]                  \n",
      "__________________________________________________________________________________________________\n",
      "conv_dw_3_relu (Activation)     (None, 56, 56, 128)  0           conv_dw_3_bn[0][0]               \n",
      "__________________________________________________________________________________________________\n",
      "conv_pw_3 (Conv2D)              (None, 56, 56, 128)  16384       conv_dw_3_relu[0][0]             \n",
      "__________________________________________________________________________________________________\n",
      "conv_pw_3_bn (BatchNormalizatio (None, 56, 56, 128)  512         conv_pw_3[0][0]                  \n",
      "__________________________________________________________________________________________________\n",
      "conv_pw_3_relu (Activation)     (None, 56, 56, 128)  0           conv_pw_3_bn[0][0]               \n",
      "__________________________________________________________________________________________________\n",
      "conv_dw_4 (DepthwiseConv2D)     (None, 28, 28, 128)  1152        conv_pw_3_relu[0][0]             \n",
      "__________________________________________________________________________________________________\n",
      "conv_dw_4_bn (BatchNormalizatio (None, 28, 28, 128)  512         conv_dw_4[0][0]                  \n",
      "__________________________________________________________________________________________________\n",
      "conv_dw_4_relu (Activation)     (None, 28, 28, 128)  0           conv_dw_4_bn[0][0]               \n",
      "__________________________________________________________________________________________________\n",
      "conv_pw_4 (Conv2D)              (None, 28, 28, 256)  32768       conv_dw_4_relu[0][0]             \n",
      "__________________________________________________________________________________________________\n",
      "conv_pw_4_bn (BatchNormalizatio (None, 28, 28, 256)  1024        conv_pw_4[0][0]                  \n",
      "__________________________________________________________________________________________________\n",
      "conv_pw_4_relu (Activation)     (None, 28, 28, 256)  0           conv_pw_4_bn[0][0]               \n",
      "__________________________________________________________________________________________________\n",
      "conv_dw_5 (DepthwiseConv2D)     (None, 28, 28, 256)  2304        conv_pw_4_relu[0][0]             \n",
      "__________________________________________________________________________________________________\n",
      "conv_dw_5_bn (BatchNormalizatio (None, 28, 28, 256)  1024        conv_dw_5[0][0]                  \n",
      "__________________________________________________________________________________________________\n",
      "conv_dw_5_relu (Activation)     (None, 28, 28, 256)  0           conv_dw_5_bn[0][0]               \n",
      "__________________________________________________________________________________________________\n",
      "conv_pw_5 (Conv2D)              (None, 28, 28, 256)  65536       conv_dw_5_relu[0][0]             \n",
      "__________________________________________________________________________________________________\n",
      "conv_pw_5_bn (BatchNormalizatio (None, 28, 28, 256)  1024        conv_pw_5[0][0]                  \n",
      "__________________________________________________________________________________________________\n",
      "conv_pw_5_relu (Activation)     (None, 28, 28, 256)  0           conv_pw_5_bn[0][0]               \n",
      "__________________________________________________________________________________________________\n",
      "conv_dw_6 (DepthwiseConv2D)     (None, 14, 14, 256)  2304        conv_pw_5_relu[0][0]             \n",
      "__________________________________________________________________________________________________\n",
      "conv_dw_6_bn (BatchNormalizatio (None, 14, 14, 256)  1024        conv_dw_6[0][0]                  \n",
      "__________________________________________________________________________________________________\n",
      "conv_dw_6_relu (Activation)     (None, 14, 14, 256)  0           conv_dw_6_bn[0][0]               \n",
      "__________________________________________________________________________________________________\n",
      "conv_pw_6 (Conv2D)              (None, 14, 14, 512)  131072      conv_dw_6_relu[0][0]             \n",
      "__________________________________________________________________________________________________\n",
      "conv_pw_6_bn (BatchNormalizatio (None, 14, 14, 512)  2048        conv_pw_6[0][0]                  \n",
      "__________________________________________________________________________________________________\n",
      "conv_pw_6_relu (Activation)     (None, 14, 14, 512)  0           conv_pw_6_bn[0][0]               \n",
      "__________________________________________________________________________________________________\n",
      "conv_dw_7 (DepthwiseConv2D)     (None, 14, 14, 512)  4608        conv_pw_6_relu[0][0]             \n",
      "__________________________________________________________________________________________________\n",
      "conv_dw_7_bn (BatchNormalizatio (None, 14, 14, 512)  2048        conv_dw_7[0][0]                  \n",
      "__________________________________________________________________________________________________\n",
      "conv_dw_7_relu (Activation)     (None, 14, 14, 512)  0           conv_dw_7_bn[0][0]               \n",
      "__________________________________________________________________________________________________\n",
      "conv_pw_7 (Conv2D)              (None, 14, 14, 512)  262144      conv_dw_7_relu[0][0]             \n",
      "__________________________________________________________________________________________________\n",
      "conv_pw_7_bn (BatchNormalizatio (None, 14, 14, 512)  2048        conv_pw_7[0][0]                  \n",
      "__________________________________________________________________________________________________\n",
      "conv_pw_7_relu (Activation)     (None, 14, 14, 512)  0           conv_pw_7_bn[0][0]               \n",
      "__________________________________________________________________________________________________\n",
      "conv_dw_8 (DepthwiseConv2D)     (None, 14, 14, 512)  4608        conv_pw_7_relu[0][0]             \n",
      "__________________________________________________________________________________________________\n",
      "conv_dw_8_bn (BatchNormalizatio (None, 14, 14, 512)  2048        conv_dw_8[0][0]                  \n",
      "__________________________________________________________________________________________________\n",
      "conv_dw_8_relu (Activation)     (None, 14, 14, 512)  0           conv_dw_8_bn[0][0]               \n",
      "__________________________________________________________________________________________________\n",
      "conv_pw_8 (Conv2D)              (None, 14, 14, 512)  262144      conv_dw_8_relu[0][0]             \n",
      "__________________________________________________________________________________________________\n",
      "conv_pw_8_bn (BatchNormalizatio (None, 14, 14, 512)  2048        conv_pw_8[0][0]                  \n",
      "__________________________________________________________________________________________________\n",
      "conv_pw_8_relu (Activation)     (None, 14, 14, 512)  0           conv_pw_8_bn[0][0]               \n",
      "__________________________________________________________________________________________________\n",
      "conv_dw_9 (DepthwiseConv2D)     (None, 14, 14, 512)  4608        conv_pw_8_relu[0][0]             \n",
      "__________________________________________________________________________________________________\n",
      "conv_dw_9_bn (BatchNormalizatio (None, 14, 14, 512)  2048        conv_dw_9[0][0]                  \n",
      "__________________________________________________________________________________________________\n",
      "conv_dw_9_relu (Activation)     (None, 14, 14, 512)  0           conv_dw_9_bn[0][0]               \n",
      "__________________________________________________________________________________________________\n",
      "conv_pw_9 (Conv2D)              (None, 14, 14, 512)  262144      conv_dw_9_relu[0][0]             \n",
      "__________________________________________________________________________________________________\n",
      "conv_pw_9_bn (BatchNormalizatio (None, 14, 14, 512)  2048        conv_pw_9[0][0]                  \n",
      "__________________________________________________________________________________________________\n",
      "conv_pw_9_relu (Activation)     (None, 14, 14, 512)  0           conv_pw_9_bn[0][0]               \n",
      "__________________________________________________________________________________________________\n",
      "conv_dw_10 (DepthwiseConv2D)    (None, 14, 14, 512)  4608        conv_pw_9_relu[0][0]             \n",
      "__________________________________________________________________________________________________\n",
      "conv_dw_10_bn (BatchNormalizati (None, 14, 14, 512)  2048        conv_dw_10[0][0]                 \n",
      "__________________________________________________________________________________________________\n",
      "conv_dw_10_relu (Activation)    (None, 14, 14, 512)  0           conv_dw_10_bn[0][0]              \n",
      "__________________________________________________________________________________________________\n",
      "conv_pw_10 (Conv2D)             (None, 14, 14, 512)  262144      conv_dw_10_relu[0][0]            \n",
      "__________________________________________________________________________________________________\n",
      "conv_pw_10_bn (BatchNormalizati (None, 14, 14, 512)  2048        conv_pw_10[0][0]                 \n",
      "__________________________________________________________________________________________________\n",
      "conv_pw_10_relu (Activation)    (None, 14, 14, 512)  0           conv_pw_10_bn[0][0]              \n",
      "__________________________________________________________________________________________________\n",
      "conv_dw_11 (DepthwiseConv2D)    (None, 14, 14, 512)  4608        conv_pw_10_relu[0][0]            \n",
      "__________________________________________________________________________________________________\n",
      "conv_dw_11_bn (BatchNormalizati (None, 14, 14, 512)  2048        conv_dw_11[0][0]                 \n",
      "__________________________________________________________________________________________________\n",
      "conv_dw_11_relu (Activation)    (None, 14, 14, 512)  0           conv_dw_11_bn[0][0]              \n",
      "__________________________________________________________________________________________________\n",
      "conv_pw_11 (Conv2D)             (None, 14, 14, 512)  262144      conv_dw_11_relu[0][0]            \n",
      "__________________________________________________________________________________________________\n",
      "conv_pw_11_bn (BatchNormalizati (None, 14, 14, 512)  2048        conv_pw_11[0][0]                 \n",
      "__________________________________________________________________________________________________\n",
      "conv_pw_11_relu (Activation)    (None, 14, 14, 512)  0           conv_pw_11_bn[0][0]              \n",
      "__________________________________________________________________________________________________\n",
      "conv_dw_12 (DepthwiseConv2D)    (None, 7, 7, 512)    4608        conv_pw_11_relu[0][0]            \n",
      "__________________________________________________________________________________________________\n",
      "conv_dw_12_bn (BatchNormalizati (None, 7, 7, 512)    2048        conv_dw_12[0][0]                 \n",
      "__________________________________________________________________________________________________\n",
      "conv_dw_12_relu (Activation)    (None, 7, 7, 512)    0           conv_dw_12_bn[0][0]              \n",
      "__________________________________________________________________________________________________\n",
      "conv_pw_12 (Conv2D)             (None, 7, 7, 1024)   524288      conv_dw_12_relu[0][0]            \n",
      "__________________________________________________________________________________________________\n",
      "conv_pw_12_bn (BatchNormalizati (None, 7, 7, 1024)   4096        conv_pw_12[0][0]                 \n",
      "__________________________________________________________________________________________________\n",
      "conv_pw_12_relu (Activation)    (None, 7, 7, 1024)   0           conv_pw_12_bn[0][0]              \n",
      "__________________________________________________________________________________________________\n",
      "conv_dw_13 (DepthwiseConv2D)    (None, 7, 7, 1024)   9216        conv_pw_12_relu[0][0]            \n",
      "__________________________________________________________________________________________________\n",
      "conv_dw_13_bn (BatchNormalizati (None, 7, 7, 1024)   4096        conv_dw_13[0][0]                 \n",
      "__________________________________________________________________________________________________\n",
      "conv_dw_13_relu (Activation)    (None, 7, 7, 1024)   0           conv_dw_13_bn[0][0]              \n",
      "__________________________________________________________________________________________________\n",
      "conv_pw_13 (Conv2D)             (None, 7, 7, 1024)   1048576     conv_dw_13_relu[0][0]            \n",
      "__________________________________________________________________________________________________\n",
      "conv_pw_13_bn (BatchNormalizati (None, 7, 7, 1024)   4096        conv_pw_13[0][0]                 \n",
      "__________________________________________________________________________________________________\n",
      "conv_pw_13_relu (Activation)    (None, 7, 7, 1024)   0           conv_pw_13_bn[0][0]              \n",
      "__________________________________________________________________________________________________\n",
      "conv2d_transpose_1 (Conv2DTrans (None, 14, 14, 512)  2097664     conv_pw_13_relu[0][0]            \n",
      "__________________________________________________________________________________________________\n",
      "concatenate_1 (Concatenate)     (None, 14, 14, 1024) 0           conv2d_transpose_1[0][0]         \n",
      "                                                                 conv_pw_11_relu[0][0]            \n",
      "__________________________________________________________________________________________________\n",
      "conv_dw_14 (DepthwiseConv2D)    (None, 14, 14, 1024) 9216        concatenate_1[0][0]              \n",
      "__________________________________________________________________________________________________\n",
      "conv_dw_14_bn (BatchNormalizati (None, 14, 14, 1024) 4096        conv_dw_14[0][0]                 \n",
      "__________________________________________________________________________________________________\n",
      "conv_dw_14_relu (Activation)    (None, 14, 14, 1024) 0           conv_dw_14_bn[0][0]              \n",
      "__________________________________________________________________________________________________\n",
      "conv_pw_14 (Conv2D)             (None, 14, 14, 512)  524288      conv_dw_14_relu[0][0]            \n",
      "__________________________________________________________________________________________________\n",
      "conv_pw_14_bn (BatchNormalizati (None, 14, 14, 512)  2048        conv_pw_14[0][0]                 \n",
      "__________________________________________________________________________________________________\n",
      "conv_pw_14_relu (Activation)    (None, 14, 14, 512)  0           conv_pw_14_bn[0][0]              \n",
      "__________________________________________________________________________________________________\n",
      "conv2d_transpose_2 (Conv2DTrans (None, 28, 28, 256)  524544      conv_pw_14_relu[0][0]            \n",
      "__________________________________________________________________________________________________\n",
      "concatenate_2 (Concatenate)     (None, 28, 28, 512)  0           conv2d_transpose_2[0][0]         \n",
      "                                                                 conv_pw_5_relu[0][0]             \n",
      "__________________________________________________________________________________________________\n",
      "conv_dw_15 (DepthwiseConv2D)    (None, 28, 28, 512)  4608        concatenate_2[0][0]              \n",
      "__________________________________________________________________________________________________\n",
      "conv_dw_15_bn (BatchNormalizati (None, 28, 28, 512)  2048        conv_dw_15[0][0]                 \n",
      "__________________________________________________________________________________________________\n",
      "conv_dw_15_relu (Activation)    (None, 28, 28, 512)  0           conv_dw_15_bn[0][0]              \n",
      "__________________________________________________________________________________________________\n",
      "conv_pw_15 (Conv2D)             (None, 28, 28, 256)  131072      conv_dw_15_relu[0][0]            \n",
      "__________________________________________________________________________________________________\n",
      "conv_pw_15_bn (BatchNormalizati (None, 28, 28, 256)  1024        conv_pw_15[0][0]                 \n",
      "__________________________________________________________________________________________________\n",
      "conv_pw_15_relu (Activation)    (None, 28, 28, 256)  0           conv_pw_15_bn[0][0]              \n",
      "__________________________________________________________________________________________________\n",
      "conv2d_transpose_3 (Conv2DTrans (None, 56, 56, 128)  131200      conv_pw_15_relu[0][0]            \n",
      "__________________________________________________________________________________________________\n",
      "concatenate_3 (Concatenate)     (None, 56, 56, 256)  0           conv2d_transpose_3[0][0]         \n",
      "                                                                 conv_pw_3_relu[0][0]             \n",
      "__________________________________________________________________________________________________\n",
      "conv_dw_16 (DepthwiseConv2D)    (None, 56, 56, 256)  2304        concatenate_3[0][0]              \n",
      "__________________________________________________________________________________________________\n",
      "conv_dw_16_bn (BatchNormalizati (None, 56, 56, 256)  1024        conv_dw_16[0][0]                 \n",
      "__________________________________________________________________________________________________\n",
      "conv_dw_16_relu (Activation)    (None, 56, 56, 256)  0           conv_dw_16_bn[0][0]              \n",
      "__________________________________________________________________________________________________\n",
      "conv_pw_16 (Conv2D)             (None, 56, 56, 128)  32768       conv_dw_16_relu[0][0]            \n",
      "__________________________________________________________________________________________________\n",
      "conv_pw_16_bn (BatchNormalizati (None, 56, 56, 128)  512         conv_pw_16[0][0]                 \n",
      "__________________________________________________________________________________________________\n",
      "conv_pw_16_relu (Activation)    (None, 56, 56, 128)  0           conv_pw_16_bn[0][0]              \n",
      "__________________________________________________________________________________________________\n",
      "conv2d_transpose_4 (Conv2DTrans (None, 112, 112, 64) 32832       conv_pw_16_relu[0][0]            \n",
      "__________________________________________________________________________________________________\n",
      "concatenate_4 (Concatenate)     (None, 112, 112, 128 0           conv2d_transpose_4[0][0]         \n",
      "                                                                 conv_pw_1_relu[0][0]             \n",
      "__________________________________________________________________________________________________\n",
      "conv_dw_17 (DepthwiseConv2D)    (None, 112, 112, 128 1152        concatenate_4[0][0]              \n",
      "__________________________________________________________________________________________________\n",
      "conv_dw_17_bn (BatchNormalizati (None, 112, 112, 128 512         conv_dw_17[0][0]                 \n",
      "__________________________________________________________________________________________________\n",
      "conv_dw_17_relu (Activation)    (None, 112, 112, 128 0           conv_dw_17_bn[0][0]              \n",
      "__________________________________________________________________________________________________\n",
      "conv_pw_17 (Conv2D)             (None, 112, 112, 64) 8192        conv_dw_17_relu[0][0]            \n",
      "__________________________________________________________________________________________________\n",
      "conv_pw_17_bn (BatchNormalizati (None, 112, 112, 64) 256         conv_pw_17[0][0]                 \n",
      "__________________________________________________________________________________________________\n",
      "conv_pw_17_relu (Activation)    (None, 112, 112, 64) 0           conv_pw_17_bn[0][0]              \n",
      "__________________________________________________________________________________________________\n",
      "concatenate_5 (Concatenate)     (None, 112, 112, 96) 0           conv_pw_17_relu[0][0]            \n",
      "                                                                 conv_0_relu[0][0]                \n",
      "__________________________________________________________________________________________________\n",
      "conv_18 (Conv2D)                (None, 112, 112, 32) 27648       concatenate_5[0][0]              \n",
      "__________________________________________________________________________________________________\n",
      "conv_18_bn (BatchNormalization) (None, 112, 112, 32) 128         conv_18[0][0]                    \n",
      "__________________________________________________________________________________________________\n",
      "conv_18_relu (Activation)       (None, 112, 112, 32) 0           conv_18_bn[0][0]                 \n",
      "__________________________________________________________________________________________________\n",
      "conv2d_1 (Conv2D)               (None, 112, 112, 21) 693         conv_18_relu[0][0]               \n",
      "__________________________________________________________________________________________________\n",
      "bilinear_up_sampling2d_1 (Bilin (None, 224, 224, 21) 0           conv2d_1[0][0]                   \n",
      "__________________________________________________________________________________________________\n",
      "reshape_1 (Reshape)             (None, 50176, 21)    0           bilinear_up_sampling2d_1[0][0]   \n",
      "__________________________________________________________________________________________________\n",
      "activation_1 (Activation)       (None, 50176, 21)    0           reshape_1[0][0]                  \n",
      "==================================================================================================\n",
      "Total params: 6,768,693\n",
      "Trainable params: 6,740,981\n",
      "Non-trainable params: 27,712\n",
      "__________________________________________________________________________________________________\n"
     ]
    }
   ],
   "source": [
    "# build model\n",
    "SegClass = SegModel(PATH, image_size, use_coords = False)\n",
    "SegClass.set_batch_size(4)\n",
    "SegClass.set_num_epochs(1)\n",
    "\n",
    "#opt = SGD(momentum=0.9, decay=0.0005)\n",
    "#opt = Adam(lr=1e-3, decay=0.995)\n",
    "opt = RMSprop()\n",
    "# tiramisu, segnet, unet, deeplab, mobileunet, enet\n",
    "\n",
    "model = SegClass.create_seg_model(opt, net='mobileunet', load_weights = False, \n",
    "                                  multi_gpu = False, to_compile = True)\n",
    "model.summary()"
   ]
  },
  {
   "cell_type": "code",
   "execution_count": 3,
   "metadata": {},
   "outputs": [
    {
     "name": "stdout",
     "output_type": "stream",
     "text": [
      "Found 10827 images belonging to 1 classes.\n",
      "Found 10827 images belonging to 1 classes.\n",
      "Found 1202 images belonging to 1 classes.\n",
      "Found 1202 images belonging to 1 classes.\n"
     ]
    }
   ],
   "source": [
    "train_generator = SegClass.create_generators(data_trn_gen_args_image, data_trn_gen_args_mask, \n",
    "                                             subset = 'training', target_size = (512,512))\n",
    "valid_generator = SegClass.create_generators(data_val_gen_args_image, data_val_gen_args_mask, \n",
    "                                             subset = 'validation', target_size = (512,512))"
   ]
  },
  {
   "cell_type": "code",
   "execution_count": 4,
   "metadata": {},
   "outputs": [],
   "source": [
    "#data_trn_gen_args_image['preprocessing_function'] = None\n",
    "#plt.imshow(np.reshape(np.argmax(y[0], axis=-1), image_size))\n",
    "#show_aug_data(train_generator, data_trn_gen_args_image, data_trn_gen_args_mask)"
   ]
  },
  {
   "cell_type": "code",
   "execution_count": 4,
   "metadata": {
    "scrolled": true
   },
   "outputs": [
    {
     "name": "stdout",
     "output_type": "stream",
     "text": [
      "Epoch 1/1\n",
      "2706/2706 [==============================] - 2199s 813ms/step - loss: 2.3318 - Mean_IOU: 0.1321 - background_sparse_accuracy: 0.4683 - sparse_accuracy_ignoring_last_label: 0.4683 - foreground_sparse_accuracy: 0.6560 - val_loss: 2.2638 - val_Mean_IOU: 0.1811 - val_background_sparse_accuracy: 0.5738 - val_sparse_accuracy_ignoring_last_label: 0.5738 - val_foreground_sparse_accuracy: nan\n",
      "\n",
      "Epoch 00001: val_loss improved from inf to 2.26385, saving model to weights/mobileunet.h5\n"
     ]
    }
   ],
   "source": [
    "h, cyclr = SegClass.train_generator(model, train_generator=train_generator,\n",
    "                                    valid_generator = valid_generator,\n",
    "                                    tf_board = False, mp = False)"
   ]
  },
  {
   "cell_type": "code",
   "execution_count": 5,
   "metadata": {},
   "outputs": [],
   "source": [
    "x,y,z = next(valid_generator)\n",
    "preds = np.argmax(model.predict(x), axis=-1)"
   ]
  },
  {
   "cell_type": "code",
   "execution_count": 6,
   "metadata": {},
   "outputs": [
    {
     "data": {
      "text/plain": [
       "(4, 224, 224)"
      ]
     },
     "execution_count": 6,
     "metadata": {},
     "output_type": "execute_result"
    }
   ],
   "source": [
    "p = np.reshape(preds, (4,224,224))\n",
    "p.shape"
   ]
  },
  {
   "cell_type": "code",
   "execution_count": 8,
   "metadata": {},
   "outputs": [
    {
     "data": {
      "text/plain": [
       "<matplotlib.image.AxesImage at 0x26e9b832128>"
      ]
     },
     "execution_count": 8,
     "metadata": {},
     "output_type": "execute_result"
    },
    {
     "data": {
      "image/png": "[encoded data removed]",
      "text/plain": [
       "<Figure size 432x288 with 1 Axes>"
      ]
     },
     "metadata": {},
     "output_type": "display_data"
    }
   ],
   "source": [
    "plt.imshow(p[3])"
   ]
  },
  {
   "cell_type": "code",
   "execution_count": 9,
   "metadata": {},
   "outputs": [
    {
     "name": "stdout",
     "output_type": "stream",
     "text": [
      "INFO:tensorflow:Restoring parameters from ./saved_ckpt-0\n",
      "INFO:tensorflow:Froze 190 variables.\n",
      "INFO:tensorflow:Converted 190 variables to const ops.\n"
     ]
    }
   ],
   "source": [
    "models_dir = './weights/'\n",
    "model_filename = 'pc_big.pb'\n",
    "convert_keras_to_pb(model, models_dir, model_filename)"
   ]
  },
  {
   "cell_type": "code",
   "execution_count": 10,
   "metadata": {},
   "outputs": [
    {
     "data": {
      "text/plain": [
       "['activation_1/truediv']"
      ]
     },
     "execution_count": 10,
     "metadata": {},
     "output_type": "execute_result"
    }
   ],
   "source": [
    "[out.op.name for out in model.outputs]"
   ]
  },
  {
   "cell_type": "code",
   "execution_count": 42,
   "metadata": {},
   "outputs": [
    {
     "name": "stdout",
     "output_type": "stream",
     "text": [
      "INFO:tensorflow:Froze 456 variables.\n",
      "INFO:tensorflow:Converted 456 variables to const ops.\n"
     ]
    },
    {
     "data": {
      "text/plain": [
       "'weights\\\\pc2.pb'"
      ]
     },
     "execution_count": 42,
     "metadata": {},
     "output_type": "execute_result"
    }
   ],
   "source": [
    "frozen_graph = freeze_session(K.get_session(),\n",
    "                              output_names=[out.op.name for out in model.outputs])\n",
    "tf.train.write_graph(frozen_graph, \"weights\", \"pc2.pb\", as_text=False)\n"
   ]
  },
  {
   "cell_type": "code",
   "execution_count": 39,
   "metadata": {},
   "outputs": [
    {
     "data": {
      "text/plain": [
       "['activation_1/truediv']"
      ]
     },
     "execution_count": 39,
     "metadata": {},
     "output_type": "execute_result"
    }
   ],
   "source": [
    "[out.op.name for out in model.outputs]"
   ]
  },
  {
   "cell_type": "code",
   "execution_count": 16,
   "metadata": {},
   "outputs": [
    {
     "name": "stdout",
     "output_type": "stream",
     "text": [
      "Epoch 1/3\n",
      "9000/9000 [==============================] - 38s 4ms/step - loss: 0.6978 - acc: 0.5032\n",
      "Epoch 2/3\n",
      "9000/9000 [==============================] - 37s 4ms/step - loss: 0.6940 - acc: 0.5158\n",
      "Epoch 3/3\n",
      "9000/9000 [==============================] - 37s 4ms/step - loss: 0.6938 - acc: 0.5120\n"
     ]
    },
    {
     "data": {
      "text/plain": [
       "[<matplotlib.lines.Line2D at 0x194c90c9e48>]"
      ]
     },
     "execution_count": 16,
     "metadata": {},
     "output_type": "execute_result"
    },
    {
     "data": {
      "image/png": "[encoded data removed]",
      "text/plain": [
       "<Figure size 432x288 with 1 Axes>"
      ]
     },
     "metadata": {},
     "output_type": "display_data"
    }
   ],
   "source": [
    "from keras.models import Sequential, Model\n",
    "from keras.layers import Dense, Activation, Input\n",
    "\n",
    "inp = Input(shape=(15,))                \n",
    "x = Dense(10, activation='relu')(inp)\n",
    "x = Dense(1, activation='sigmoid')(x)\n",
    "\n",
    "model = Model(inp, x)\n",
    "X = np.random.rand(9000,15)\n",
    "Y = np.random.randint(0,2,size=9000)\n",
    "clr_triangular = CyclicLR(base_lr=0.0001, max_lr=0.01,\n",
    "                      step_size=5, mode = 'cosine', gamma = 0.9999995,\n",
    "                      scale_mode='iterations', cycle_mult = 2)\n",
    "\n",
    "model.compile(optimizer=SGD(0.1), loss='binary_crossentropy', metrics=['accuracy'])\n",
    "model.fit(X, Y, batch_size=2, nb_epoch=3, callbacks=[clr_triangular], verbose=1)\n",
    "plt.xlabel('Training Iterations')\n",
    "plt.ylabel('Learning Rate')\n",
    "plt.title(\"CLR - 'triangular' Policy\")\n",
    "plt.plot(clr_triangular.history['iterations'], clr_triangular.history['lr'])\n"
   ]
  },
  {
   "cell_type": "markdown",
   "metadata": {},
   "source": [
    "### Freezing model"
   ]
  },
  {
   "cell_type": "code",
   "execution_count": null,
   "metadata": {},
   "outputs": [],
   "source": [
    "#models_dir = './models/'\n",
    "#model_filename = 'model_tf_{}x{}.pb'.format(image_size[0], image_size[1])\n",
    "#convert_keras_to_pb(deeplab_model, models_dir, model_filename)\n"
   ]
  },
  {
   "cell_type": "code",
   "execution_count": 5,
   "metadata": {},
   "outputs": [
    {
     "name": "stdout",
     "output_type": "stream",
     "text": [
      "INFO:tensorflow:Froze 492 variables.\n",
      "INFO:tensorflow:Converted 492 variables to const ops.\n"
     ]
    },
    {
     "data": {
      "text/plain": [
       "'weights\\\\stack128.pb'"
      ]
     },
     "execution_count": 5,
     "metadata": {},
     "output_type": "execute_result"
    }
   ],
   "source": [
    "frozen_graph = freeze_session(K.get_session(),\n",
    "                              output_names=[out.op.name for out in deeplab_model.outputs])\n",
    "tf.train.write_graph(frozen_graph, \"weights\", \"stack128.pb\", as_text=False)\n"
   ]
  },
  {
   "cell_type": "markdown",
   "metadata": {},
   "source": [
    "#### Create Generators"
   ]
  },
  {
   "cell_type": "code",
   "execution_count": null,
   "metadata": {},
   "outputs": [],
   "source": [
    "data_trn_gen_args_mask = dict(preprocessing_function = preprocess_mask,\n",
    "                              horizontal_flip=True, rotation_range=45,\n",
    "                              width_shift_range=0.01, \n",
    "                              height_shift_range=0.01,\n",
    "                              zoom_range=0.2, \n",
    "                              validation_split = .2,\n",
    "                              )\n",
    "\n",
    "data_trn_gen_args_image = dict(preprocessing_function = preprocess_input,\n",
    "                               horizontal_flip=True, rotation_range=45,\n",
    "                               width_shift_range=0.01, \n",
    "                               height_shift_range=0.01,\n",
    "                               zoom_range=0.2, \n",
    "                               validation_split = .2,\n",
    "                               channel_shift_range = .2\n",
    "                               )\n",
    "\n",
    "data_val_gen_args_image = dict(preprocessing_function = preprocess_input, validation_split = .2)\n",
    "data_val_gen_args_mask = dict(validation_split = .2)\n",
    "\n",
    "train_generator = deeplab_seg.create_generators(data_trn_gen_args_image, data_trn_gen_args_mask, subset = 'training')\n",
    "valid_generator = deeplab_seg.create_generators(data_val_gen_args_image, data_val_gen_args_mask, subset = 'validation')"
   ]
  },
  {
   "cell_type": "code",
   "execution_count": null,
   "metadata": {},
   "outputs": [],
   "source": [
    "data_trn_gen_args_image['preprocessing_function'] = None\n",
    "\n",
    "show_aug_data(train_generator, data_trn_gen_args_image, data_trn_gen_args_mask)"
   ]
  },
  {
   "cell_type": "markdown",
   "metadata": {},
   "source": [
    "## Train Model"
   ]
  },
  {
   "cell_type": "code",
   "execution_count": null,
   "metadata": {},
   "outputs": [],
   "source": [
    "h = deeplab_seg.train_generator(deeplab_model, train_generator=train_generator, \n",
    "                                valid_generator = valid_generator, \n",
    "                                tf_board = True, mp = True)"
   ]
  },
  {
   "cell_type": "markdown",
   "metadata": {},
   "source": [
    "### EVALUATION"
   ]
  },
  {
   "cell_type": "code",
   "execution_count": null,
   "metadata": {},
   "outputs": [],
   "source": [
    "classes = [c for c in get_VOC2012_classes().values()]\n",
    "y_preds = deeplab_model.predict(X_test, batch_size = deeplab_seg.batch_size, verbose=1)\n",
    "df_test, conf_test, mean_acc_test = evaluate_model(y_preds, y_test, data_from = 'test')\n",
    "\n",
    "y_preds = deeplab_model.predict(X_valid, batch_size = deeplab_seg.batch_size, verbose=1)\n",
    "df_valid, conf_valid, mean_acc_valid = evaluate_model(y_preds, y_valid, data_from = 'valid')\n",
    "df_test['IoU valid'] = df_valid['IoU valid']\n",
    "\n",
    "if deeplab_seg.coords:\n",
    "    model_name = 'deeplabv3+ with added coordconv channels'\n",
    "else:\n",
    "    model_name = 'deeplabv3+'\n",
    "\n",
    "plt.figure(figsize=(17,7))\n",
    "plt.subplot(121)\n",
    "plot_confusion_matrix(conf_test, classes, normalize=True, \n",
    "                      title='Pixel-wise confusion matrix of Test set. Model: '+model_name)\n",
    "plt.subplot(122)\n",
    "plot_confusion_matrix(conf_valid, classes, normalize=True, \n",
    "                      title='Pixel-wise confusion matrix of Validation set. Model: '+model_name)\n",
    "\n",
    "print('test mean acc: ', mean_acc_test)\n",
    "print('validation mean acc: ', mean_acc_valid)\n",
    "df_test"
   ]
  }
 ],
 "metadata": {
  "kernelspec": {
   "display_name": "Python 3",
   "language": "python",
   "name": "python3"
  },
  "language_info": {
   "codemirror_mode": {
    "name": "ipython",
    "version": 3
   },
   "file_extension": ".py",
   "mimetype": "text/x-python",
   "name": "python",
   "nbconvert_exporter": "python",
   "pygments_lexer": "ipython3",
   "version": "3.6.5"
  }
 },
 "nbformat": 4,
 "nbformat_minor": 2
}
